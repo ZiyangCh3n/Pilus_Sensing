{
 "cells": [
  {
   "cell_type": "code",
   "execution_count": 19,
   "id": "972c55d1-fae0-4614-b0da-43a3559e4a8a",
   "metadata": {},
   "outputs": [
    {
     "name": "stdout",
     "output_type": "stream",
     "text": [
      " dsa\n"
     ]
    }
   ],
   "source": [
    "taskname = input()"
   ]
  },
  {
   "cell_type": "markdown",
   "id": "fc04a53e-27c1-401a-b470-aafa7837de56",
   "metadata": {},
   "source": [
    "## Run this before Mask"
   ]
  },
  {
   "cell_type": "code",
   "execution_count": 1,
   "id": "b48a3168-bec2-466e-aa4d-249498cc1f10",
   "metadata": {},
   "outputs": [],
   "source": [
    "import os"
   ]
  },
  {
   "cell_type": "markdown",
   "id": "23e5b062-447f-4c23-a296-a88544644337",
   "metadata": {},
   "source": [
    "### Create folder for masks"
   ]
  },
  {
   "cell_type": "code",
   "execution_count": 2,
   "id": "b0913c0f-c8e1-47e2-b66b-4bb279c4b613",
   "metadata": {},
   "outputs": [
    {
     "data": {
      "text/plain": [
       "'/scratch/gpfs/ziyangc/pilus/Pilus_Sensing/data/221214/different_strain_arabinose/masks'"
      ]
     },
     "execution_count": 2,
     "metadata": {},
     "output_type": "execute_result"
    }
   ],
   "source": [
    "os.chdir(os.path.dirname(os.getcwd()))\n",
    "MASK_DIR = os.path.join(os.getcwd(), 'masks')\n",
    "MASK_DIR"
   ]
  },
  {
   "cell_type": "code",
   "execution_count": 3,
   "id": "513ed854-8dec-475c-808f-bf5c1d4f6630",
   "metadata": {},
   "outputs": [],
   "source": [
    "if not os.path.exists(MASK_DIR):\n",
    "    os.mkdir(MASK_DIR)\n",
    "    os.mkdir(os.path.join(MASK_DIR, 'preview'))\n",
    "    os.mkdir(os.path.join(MASK_DIR, 'masks_all'))"
   ]
  },
  {
   "cell_type": "code",
   "execution_count": null,
   "id": "f5687d8f",
   "metadata": {},
   "outputs": [],
   "source": [
    "FLUO_DIR = os.path.join(os.getcwd(), 'fluo')\n",
    "if not os.path.exists(FLUO_DIR):\n",
    "    os.mkdir(FLUO_DIR)"
   ]
  },
  {
   "cell_type": "markdown",
   "id": "d8b240bf-7842-40b4-a2e1-be94df3bcc0b",
   "metadata": {},
   "source": [
    "### Generate args for masks"
   ]
  },
  {
   "cell_type": "code",
   "execution_count": 4,
   "id": "0f900c4b-a38b-4f43-93b8-35723a7caf3f",
   "metadata": {},
   "outputs": [
    {
     "name": "stdout",
     "output_type": "stream",
     "text": [
      "True\n"
     ]
    }
   ],
   "source": [
    "ref_dir = os.path.join(os.getcwd(), 'ref.txt')\n",
    "print(os.path.exists(ref_dir))\n",
    "ref = {}"
   ]
  },
  {
   "cell_type": "code",
   "execution_count": 5,
   "id": "5c411cfe-590e-4e32-bb9f-7acd33a32197",
   "metadata": {},
   "outputs": [
    {
     "name": "stdout",
     "output_type": "stream",
     "text": [
      "{'strain': ['12++', '12+-', '12-+', '12--', '1++', '1+-', '1-+', '1--', '2++', '2+-', '2-+', '2--'], 'conc': ['1.5'], 'tp': ['0', '30', '60', '90', '120', '150', '180', '210', '240'], 'pos': ['0', '1', '2', '3', '4', '5'], 'od': ['.1', '.1', '.1', '.1'], 'ara_conc': ['1']}\n"
     ]
    }
   ],
   "source": [
    "for line in open(ref_dir):\n",
    "    a = line.strip()\n",
    "    if(a[0] == '#'):\n",
    "        continue\n",
    "    a = a.split(',')\n",
    "    ref[a[0]] = a[1:]\n",
    "    \n",
    "print(ref)"
   ]
  },
  {
   "cell_type": "code",
   "execution_count": 6,
   "id": "ad01059f-8dd1-4928-a9e6-baa78d95f063",
   "metadata": {},
   "outputs": [],
   "source": [
    "a1 = len(ref['strain'])\n",
    "a2 = len(ref['pos'])"
   ]
  },
  {
   "cell_type": "code",
   "execution_count": 8,
   "id": "ad6a0115-9c1e-476c-9f07-30b360c9f046",
   "metadata": {},
   "outputs": [
    {
     "name": "stdout",
     "output_type": "stream",
     "text": [
      "[0-72:6]\n"
     ]
    }
   ],
   "source": [
    "print(\"[%d-%d:%d]\" % (0, a1*a2, a2))"
   ]
  },
  {
   "cell_type": "markdown",
   "id": "eceba6dd-1f70-4f04-9ae3-32d9ca02e4da",
   "metadata": {},
   "source": [
    "### Create Slurm for FindAllMasks"
   ]
  },
  {
   "cell_type": "code",
   "execution_count": 22,
   "id": "8a9cb8ff-8483-4961-ab8f-b1675b18f153",
   "metadata": {},
   "outputs": [
    {
     "data": {
      "text/plain": [
       "'/scratch/gpfs/ziyangc/pilus/Pilus_Sensing/data/221214/different_strain_arabinose/analysis/Slurm1.slurm'"
      ]
     },
     "execution_count": 22,
     "metadata": {},
     "output_type": "execute_result"
    }
   ],
   "source": [
    "slurm_dir = os.path.join(os.getcwd(), 'analysis', 'Slurm1.slurm')\n",
    "slurm_dir"
   ]
  },
  {
   "cell_type": "code",
   "execution_count": 23,
   "id": "63393745-3890-4f98-86b7-6d2c80c58b9a",
   "metadata": {},
   "outputs": [],
   "source": [
    "with open(slurm_dir, 'w') as f:\n",
    "    f.write(\"#!/bin/bash\\n\")\n",
    "    f.write(\"#SBATCH --job-name={}     # create a short name for your job\\n\".format(taskname))\n",
    "    f.write(\"#SBATCH --output=./out/%x-%a.out # stdout file\\n\")\n",
    "    f.write(\"#SBATCH --error=./err/%x-%a.err  # stderr file\\n\")\n",
    "    f.write(\"#SBATCH --nodes=1                # node count\\n\")\n",
    "    f.write(\"#SBATCH --ntasks=1               # total number of tasks across all nodes\\n\")\n",
    "    f.write(\"#SBATCH --cpus-per-task=12        # cpu-cores per task (>1 if multi-threaded tasks)\\n\")\n",
    "    f.write(\"#SBATCH --mem=1G         # memory\\n\")\n",
    "    f.write(\"#SBATCH --time=02:30:00          # total run time limit (HH:MM:SS)\\n\")\n",
    "    f.write(\"#SBATCH --array=[0-{}:{}]             # job array with index values 0, 1, 2, 3, 4\\n\".format(a1*a2, a2))\n",
    "    f.write(\"#SBATCH --mail-type=all          # send email on job start, end and fault\\n\")\n",
    "    f.write(\"module purge\\n\")\n",
    "    f.write(\"module load anaconda3/2021.11\\n\")\n",
    "    f.write(\"conda activate pilus\\n\")\n",
    "    f.write(\"python GetAllMasks.py $SLURM_ARRAY_TASK_ID {}\\n\".format(a2))"
   ]
  },
  {
   "cell_type": "code",
   "execution_count": null,
   "id": "185889b2",
   "metadata": {},
   "outputs": [],
   "source": [
    "err_dir = os.path.join(os.getcwd(), 'analysis', 'err')\n",
    "out_dir = os.path.join(os.getcwd(), 'analysis', 'out')\n",
    "prog_dir = os.path.join(os.getcwd(), 'analysis', 'progress')\n",
    "if not os.path.exists(err_dir):\n",
    "    os.mkdir(err_dir)\n",
    "if not os.path.exists(out_dir):\n",
    "    os.mkdir(out_dir)\n",
    "if not os.path.exists(prog_dir):\n",
    "    os.mkdir(prog_dir)"
   ]
  }
 ],
 "metadata": {
  "kernelspec": {
   "display_name": "pilus [~/.conda/envs/pilus/]",
   "language": "python",
   "name": "conda_pilus"
  },
  "language_info": {
   "codemirror_mode": {
    "name": "ipython",
    "version": 3
   },
   "file_extension": ".py",
   "mimetype": "text/x-python",
   "name": "python",
   "nbconvert_exporter": "python",
   "pygments_lexer": "ipython3",
   "version": "3.10.2"
  }
 },
 "nbformat": 4,
 "nbformat_minor": 5
}
