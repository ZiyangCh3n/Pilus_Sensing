{
 "cells": [
  {
   "cell_type": "markdown",
   "metadata": {},
   "source": [
    "### This is for select mask mannually"
   ]
  },
  {
   "cell_type": "code",
   "execution_count": 2,
   "metadata": {},
   "outputs": [],
   "source": [
    "import os\n",
    "import matplotlib.pyplot as plt\n",
    "from skimage import io"
   ]
  },
  {
   "cell_type": "code",
   "execution_count": 3,
   "metadata": {},
   "outputs": [
    {
     "data": {
      "text/plain": [
       "'c:\\\\Users\\\\littl\\\\Documents\\\\Research\\\\pilus\\\\Pilus_Sensing\\\\Pilus_Sensing\\\\data\\\\test2\\\\analysis'"
      ]
     },
     "execution_count": 3,
     "metadata": {},
     "output_type": "execute_result"
    }
   ],
   "source": [
    "os.getcwd()"
   ]
  },
  {
   "cell_type": "code",
   "execution_count": 4,
   "metadata": {},
   "outputs": [
    {
     "data": {
      "text/plain": [
       "True"
      ]
     },
     "execution_count": 4,
     "metadata": {},
     "output_type": "execute_result"
    }
   ],
   "source": [
    "preview_dir = os.path.join(os.path.dirname(os.getcwd()), 'masks', 'preview')\n",
    "os.path.exists(preview_dir)"
   ]
  },
  {
   "cell_type": "code",
   "execution_count": 5,
   "metadata": {},
   "outputs": [
    {
     "name": "stdout",
     "output_type": "stream",
     "text": [
      "Using matplotlib backend: QtAgg\n"
     ]
    }
   ],
   "source": [
    "%matplotlib auto\n",
    "for parent, folder, file in os.walk(preview_dir):\n",
    "    if \"ipynb_checkpoints\" in parent:\n",
    "        continue\n",
    "    file.sort()\n",
    "    p = 0\n",
    "    for f in file:\n",
    "        img_dir = os.path.join(parent, f)\n",
    "        img = io.imread(img_dir)\n",
    "        plt.imshow(img)\n",
    "        p += 1\n",
    "        plt.title(\"%s-%d/%d\" % (f, p, len(file)))\n",
    "        plt.pause(1)\n",
    "        a = input()\n",
    "        while a == '':\n",
    "            a = input(\"Type again!\")\n",
    "        plt.close()\n",
    "        with open(os.path.join(os.getcwd(), 'label.txt'), 'a') as w:\n",
    "            w.write(\"%s,%s\\n\" % (f, a))"
   ]
  }
 ],
 "metadata": {
  "kernelspec": {
   "display_name": "pilus",
   "language": "python",
   "name": "python3"
  },
  "language_info": {
   "codemirror_mode": {
    "name": "ipython",
    "version": 3
   },
   "file_extension": ".py",
   "mimetype": "text/x-python",
   "name": "python",
   "nbconvert_exporter": "python",
   "pygments_lexer": "ipython3",
   "version": "3.9.7 (default, Sep 16 2021, 16:59:28) [MSC v.1916 64 bit (AMD64)]"
  },
  "orig_nbformat": 4,
  "vscode": {
   "interpreter": {
    "hash": "40a4976031dacd6603eebb0bd901e30bd889fa5c60bf3e9b4494ad3e6ce7f0db"
   }
  }
 },
 "nbformat": 4,
 "nbformat_minor": 2
}
