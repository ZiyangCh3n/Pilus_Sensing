{
 "cells": [
  {
   "cell_type": "code",
   "execution_count": 6,
   "id": "3c22f663-cace-47d0-b3bc-0ab8b29d2753",
   "metadata": {},
   "outputs": [],
   "source": [
    "from os import path, getcwd, walk, makedirs, rename, listdir\n",
    "import numpy as np\n",
    "from skimage import io"
   ]
  },
  {
   "cell_type": "code",
   "execution_count": 4,
   "id": "77090eec-5ff7-4854-a9b7-9762187e6bcd",
   "metadata": {},
   "outputs": [
    {
     "data": {
      "text/plain": [
       "'d:\\\\Ziyang\\\\Pilus_Sensing\\\\data\\\\070722\\\\1st'"
      ]
     },
     "execution_count": 4,
     "metadata": {},
     "output_type": "execute_result"
    }
   ],
   "source": [
    "data_dir = path.join(path.dirname(getcwd()), 'data', '070722', '1st')\n",
    "data_dir"
   ]
  },
  {
   "cell_type": "code",
   "execution_count": 5,
   "id": "23607865",
   "metadata": {},
   "outputs": [
    {
     "data": {
      "text/plain": [
       "['12+-_001.nd2',\n",
       " '12+-_001.tiff',\n",
       " '12+-_002.nd2',\n",
       " '12+-_002.tiff',\n",
       " '12+-_003.nd2',\n",
       " '12+-_003.tiff',\n",
       " '12+-_004.nd2',\n",
       " '12+-_004.tiff',\n",
       " 'ref.txt']"
      ]
     },
     "execution_count": 5,
     "metadata": {},
     "output_type": "execute_result"
    }
   ],
   "source": [
    "listdir(data_dir)"
   ]
  },
  {
   "cell_type": "code",
   "execution_count": 15,
   "id": "e861ab2b",
   "metadata": {},
   "outputs": [
    {
     "name": "stderr",
     "output_type": "stream",
     "text": [
      "TiffFile.asarray: failed to reshape (1056, 1024, 1024) to (11, 3, 1024, 1024)\n"
     ]
    }
   ],
   "source": [
    "raw_stack = io.imread(path.join(data_dir, '12+-_004_o.tiff'))"
   ]
  },
  {
   "cell_type": "code",
   "execution_count": 13,
   "id": "688f9433",
   "metadata": {},
   "outputs": [
    {
     "data": {
      "text/plain": [
       "(32, 11, 1024, 1024, 3)"
      ]
     },
     "execution_count": 13,
     "metadata": {},
     "output_type": "execute_result"
    }
   ],
   "source": [
    "raw_stack.shape"
   ]
  },
  {
   "cell_type": "code",
   "execution_count": 10,
   "id": "4882ddd7",
   "metadata": {},
   "outputs": [
    {
     "data": {
      "text/plain": [
       "'12+-_004.tiff'"
      ]
     },
     "execution_count": 10,
     "metadata": {},
     "output_type": "execute_result"
    }
   ],
   "source": [
    "'12+-_' + str(0 + 4).zfill(3) + '.tiff'"
   ]
  },
  {
   "cell_type": "code",
   "execution_count": 16,
   "id": "4999d771",
   "metadata": {},
   "outputs": [],
   "source": [
    "for i in range(raw_stack.shape[1]):\n",
    "    output = raw_stack[:, i, :,:,:]\n",
    "    outpath = path.join(data_dir, '12+-_' + str(i + 4).zfill(3) + '.tiff')\n",
    "    if path.exists(outpath):\n",
    "        continue\n",
    "    io.imsave(outpath, output)"
   ]
  },
  {
   "cell_type": "code",
   "execution_count": 5,
   "id": "8dea8fc0-4c66-4b0a-8e88-af5152052ec1",
   "metadata": {},
   "outputs": [
    {
     "name": "stdout",
     "output_type": "stream",
     "text": [
      "/scratch/gpfs/ziyangc/pilus/Pilus_Sensing/data/062222/2nd\n",
      "/scratch/gpfs/ziyangc/pilus/Pilus_Sensing/data/062222/2nd/mask_ref\n",
      "/scratch/gpfs/ziyangc/pilus/Pilus_Sensing/data/062222/2nd/mask\n",
      "/scratch/gpfs/ziyangc/pilus/Pilus_Sensing/data/062222/1st\n",
      "/scratch/gpfs/ziyangc/pilus/Pilus_Sensing/data/062222/1st/mask_ref\n",
      "/scratch/gpfs/ziyangc/pilus/Pilus_Sensing/data/062222/1st/mask\n"
     ]
    }
   ],
   "source": [
    "for parent_m, folder_m, file_m in walk(data_dir):\n",
    "    if 'ref.txt' in file_m:\n",
    "        print(parent_m)\n",
    "        ref = {}\n",
    "        for line in open(path.join(parent_m, 'ref.txt')):\n",
    "            a = line.strip().split(',')\n",
    "            ref[a[0]] = a[1:]\n",
    "        ref['tp'].sort()\n",
    "        for parent, folder, file in walk(parent_m):\n",
    "            if 'mask' in parent:\n",
    "                file.sort()\n",
    "                print(parent)\n",
    "                n_replicate = int(len(file) / len(ref['conc']) / len(ref['strain']) / len(ref['tp']))\n",
    "                rename_list = ['_'.join([strain, str(float(conc)), str(rep).zfill(2), str(tp)]) + '.png'\n",
    "                               for tp in ref['tp']\n",
    "                               for strain in ref['strain']\n",
    "                               for conc in ref['conc']\n",
    "                               for rep in np.arange(n_replicate)]\n",
    "                # print(rename_list)\n",
    "                for f, r in zip(file, rename_list):\n",
    "                    if path.exists(path.join(parent, r)):\n",
    "                        continue\n",
    "                    rename(path.join(parent, f), path.join(parent, r))\n"
   ]
  },
  {
   "cell_type": "code",
   "execution_count": 40,
   "id": "79555c87-6054-42b2-a2c8-267f116d57d7",
   "metadata": {},
   "outputs": [
    {
     "name": "stdout",
     "output_type": "stream",
     "text": [
      "['ZY12+_1.5_00_0.png', 'ZY12+_1.5_01_0.png', 'ZY12+_1.5_02_0.png', 'ZY12+_1.5_03_0.png', 'ZY12+_1.5_04_0.png', 'ZY12+_1.5_05_0.png', 'ZY12-_1.5_00_0.png', 'ZY12-_1.5_01_0.png', 'ZY12-_1.5_02_0.png', 'ZY12-_1.5_03_0.png', 'ZY12-_1.5_04_0.png', 'ZY12-_1.5_05_0.png', 'ZY15+_1.5_00_0.png', 'ZY15+_1.5_01_0.png', 'ZY15+_1.5_02_0.png', 'ZY15+_1.5_03_0.png', 'ZY15+_1.5_04_0.png', 'ZY15+_1.5_05_0.png', 'ZY15-_1.5_00_0.png', 'ZY15-_1.5_01_0.png', 'ZY15-_1.5_02_0.png', 'ZY15-_1.5_03_0.png', 'ZY15-_1.5_04_0.png', 'ZY15-_1.5_05_0.png', 'ZY12+_1.5_00_10.png', 'ZY12+_1.5_01_10.png', 'ZY12+_1.5_02_10.png', 'ZY12+_1.5_03_10.png', 'ZY12+_1.5_04_10.png', 'ZY12+_1.5_05_10.png', 'ZY12-_1.5_00_10.png', 'ZY12-_1.5_01_10.png', 'ZY12-_1.5_02_10.png', 'ZY12-_1.5_03_10.png', 'ZY12-_1.5_04_10.png', 'ZY12-_1.5_05_10.png', 'ZY15+_1.5_00_10.png', 'ZY15+_1.5_01_10.png', 'ZY15+_1.5_02_10.png', 'ZY15+_1.5_03_10.png', 'ZY15+_1.5_04_10.png', 'ZY15+_1.5_05_10.png', 'ZY15-_1.5_00_10.png', 'ZY15-_1.5_01_10.png', 'ZY15-_1.5_02_10.png', 'ZY15-_1.5_03_10.png', 'ZY15-_1.5_04_10.png', 'ZY15-_1.5_05_10.png', 'ZY12+_1.5_00_120.png', 'ZY12+_1.5_01_120.png', 'ZY12+_1.5_02_120.png', 'ZY12+_1.5_03_120.png', 'ZY12+_1.5_04_120.png', 'ZY12+_1.5_05_120.png', 'ZY12-_1.5_00_120.png', 'ZY12-_1.5_01_120.png', 'ZY12-_1.5_02_120.png', 'ZY12-_1.5_03_120.png', 'ZY12-_1.5_04_120.png', 'ZY12-_1.5_05_120.png', 'ZY15+_1.5_00_120.png', 'ZY15+_1.5_01_120.png', 'ZY15+_1.5_02_120.png', 'ZY15+_1.5_03_120.png', 'ZY15+_1.5_04_120.png', 'ZY15+_1.5_05_120.png', 'ZY15-_1.5_00_120.png', 'ZY15-_1.5_01_120.png', 'ZY15-_1.5_02_120.png', 'ZY15-_1.5_03_120.png', 'ZY15-_1.5_04_120.png', 'ZY15-_1.5_05_120.png', 'ZY12+_1.5_00_20.png', 'ZY12+_1.5_01_20.png', 'ZY12+_1.5_02_20.png', 'ZY12+_1.5_03_20.png', 'ZY12+_1.5_04_20.png', 'ZY12+_1.5_05_20.png', 'ZY12-_1.5_00_20.png', 'ZY12-_1.5_01_20.png', 'ZY12-_1.5_02_20.png', 'ZY12-_1.5_03_20.png', 'ZY12-_1.5_04_20.png', 'ZY12-_1.5_05_20.png', 'ZY15+_1.5_00_20.png', 'ZY15+_1.5_01_20.png', 'ZY15+_1.5_02_20.png', 'ZY15+_1.5_03_20.png', 'ZY15+_1.5_04_20.png', 'ZY15+_1.5_05_20.png', 'ZY15-_1.5_00_20.png', 'ZY15-_1.5_01_20.png', 'ZY15-_1.5_02_20.png', 'ZY15-_1.5_03_20.png', 'ZY15-_1.5_04_20.png', 'ZY15-_1.5_05_20.png', 'ZY12+_1.5_00_30.png', 'ZY12+_1.5_01_30.png', 'ZY12+_1.5_02_30.png', 'ZY12+_1.5_03_30.png', 'ZY12+_1.5_04_30.png', 'ZY12+_1.5_05_30.png', 'ZY12-_1.5_00_30.png', 'ZY12-_1.5_01_30.png', 'ZY12-_1.5_02_30.png', 'ZY12-_1.5_03_30.png', 'ZY12-_1.5_04_30.png', 'ZY12-_1.5_05_30.png', 'ZY15+_1.5_00_30.png', 'ZY15+_1.5_01_30.png', 'ZY15+_1.5_02_30.png', 'ZY15+_1.5_03_30.png', 'ZY15+_1.5_04_30.png', 'ZY15+_1.5_05_30.png', 'ZY15-_1.5_00_30.png', 'ZY15-_1.5_01_30.png', 'ZY15-_1.5_02_30.png', 'ZY15-_1.5_03_30.png', 'ZY15-_1.5_04_30.png', 'ZY15-_1.5_05_30.png', 'ZY12+_1.5_00_40.png', 'ZY12+_1.5_01_40.png', 'ZY12+_1.5_02_40.png', 'ZY12+_1.5_03_40.png', 'ZY12+_1.5_04_40.png', 'ZY12+_1.5_05_40.png', 'ZY12-_1.5_00_40.png', 'ZY12-_1.5_01_40.png', 'ZY12-_1.5_02_40.png', 'ZY12-_1.5_03_40.png', 'ZY12-_1.5_04_40.png', 'ZY12-_1.5_05_40.png', 'ZY15+_1.5_00_40.png', 'ZY15+_1.5_01_40.png', 'ZY15+_1.5_02_40.png', 'ZY15+_1.5_03_40.png', 'ZY15+_1.5_04_40.png', 'ZY15+_1.5_05_40.png', 'ZY15-_1.5_00_40.png', 'ZY15-_1.5_01_40.png', 'ZY15-_1.5_02_40.png', 'ZY15-_1.5_03_40.png', 'ZY15-_1.5_04_40.png', 'ZY15-_1.5_05_40.png', 'ZY12+_1.5_00_50.png', 'ZY12+_1.5_01_50.png', 'ZY12+_1.5_02_50.png', 'ZY12+_1.5_03_50.png', 'ZY12+_1.5_04_50.png', 'ZY12+_1.5_05_50.png', 'ZY12-_1.5_00_50.png', 'ZY12-_1.5_01_50.png', 'ZY12-_1.5_02_50.png', 'ZY12-_1.5_03_50.png', 'ZY12-_1.5_04_50.png', 'ZY12-_1.5_05_50.png', 'ZY15+_1.5_00_50.png', 'ZY15+_1.5_01_50.png', 'ZY15+_1.5_02_50.png', 'ZY15+_1.5_03_50.png', 'ZY15+_1.5_04_50.png', 'ZY15+_1.5_05_50.png', 'ZY15-_1.5_00_50.png', 'ZY15-_1.5_01_50.png', 'ZY15-_1.5_02_50.png', 'ZY15-_1.5_03_50.png', 'ZY15-_1.5_04_50.png', 'ZY15-_1.5_05_50.png', 'ZY12+_1.5_00_60.png', 'ZY12+_1.5_01_60.png', 'ZY12+_1.5_02_60.png', 'ZY12+_1.5_03_60.png', 'ZY12+_1.5_04_60.png', 'ZY12+_1.5_05_60.png', 'ZY12-_1.5_00_60.png', 'ZY12-_1.5_01_60.png', 'ZY12-_1.5_02_60.png', 'ZY12-_1.5_03_60.png', 'ZY12-_1.5_04_60.png', 'ZY12-_1.5_05_60.png', 'ZY15+_1.5_00_60.png', 'ZY15+_1.5_01_60.png', 'ZY15+_1.5_02_60.png', 'ZY15+_1.5_03_60.png', 'ZY15+_1.5_04_60.png', 'ZY15+_1.5_05_60.png', 'ZY15-_1.5_00_60.png', 'ZY15-_1.5_01_60.png', 'ZY15-_1.5_02_60.png', 'ZY15-_1.5_03_60.png', 'ZY15-_1.5_04_60.png', 'ZY15-_1.5_05_60.png']\n",
      "['ZY12+_1.5_00_0.png', 'ZY12+_1.5_01_0.png', 'ZY12+_1.5_02_0.png', 'ZY12+_1.5_03_0.png', 'ZY12+_1.5_04_0.png', 'ZY12+_1.5_05_0.png', 'ZY12-_1.5_00_0.png', 'ZY12-_1.5_01_0.png', 'ZY12-_1.5_02_0.png', 'ZY12-_1.5_03_0.png', 'ZY12-_1.5_04_0.png', 'ZY12-_1.5_05_0.png', 'ZY15+_1.5_00_0.png', 'ZY15+_1.5_01_0.png', 'ZY15+_1.5_02_0.png', 'ZY15+_1.5_03_0.png', 'ZY15+_1.5_04_0.png', 'ZY15+_1.5_05_0.png', 'ZY15-_1.5_00_0.png', 'ZY15-_1.5_01_0.png', 'ZY15-_1.5_02_0.png', 'ZY15-_1.5_03_0.png', 'ZY15-_1.5_04_0.png', 'ZY15-_1.5_05_0.png', 'ZY12+_1.5_00_10.png', 'ZY12+_1.5_01_10.png', 'ZY12+_1.5_02_10.png', 'ZY12+_1.5_03_10.png', 'ZY12+_1.5_04_10.png', 'ZY12+_1.5_05_10.png', 'ZY12-_1.5_00_10.png', 'ZY12-_1.5_01_10.png', 'ZY12-_1.5_02_10.png', 'ZY12-_1.5_03_10.png', 'ZY12-_1.5_04_10.png', 'ZY12-_1.5_05_10.png', 'ZY15+_1.5_00_10.png', 'ZY15+_1.5_01_10.png', 'ZY15+_1.5_02_10.png', 'ZY15+_1.5_03_10.png', 'ZY15+_1.5_04_10.png', 'ZY15+_1.5_05_10.png', 'ZY15-_1.5_00_10.png', 'ZY15-_1.5_01_10.png', 'ZY15-_1.5_02_10.png', 'ZY15-_1.5_03_10.png', 'ZY15-_1.5_04_10.png', 'ZY15-_1.5_05_10.png', 'ZY12+_1.5_00_120.png', 'ZY12+_1.5_01_120.png', 'ZY12+_1.5_02_120.png', 'ZY12+_1.5_03_120.png', 'ZY12+_1.5_04_120.png', 'ZY12+_1.5_05_120.png', 'ZY12-_1.5_00_120.png', 'ZY12-_1.5_01_120.png', 'ZY12-_1.5_02_120.png', 'ZY12-_1.5_03_120.png', 'ZY12-_1.5_04_120.png', 'ZY12-_1.5_05_120.png', 'ZY15+_1.5_00_120.png', 'ZY15+_1.5_01_120.png', 'ZY15+_1.5_02_120.png', 'ZY15+_1.5_03_120.png', 'ZY15+_1.5_04_120.png', 'ZY15+_1.5_05_120.png', 'ZY15-_1.5_00_120.png', 'ZY15-_1.5_01_120.png', 'ZY15-_1.5_02_120.png', 'ZY15-_1.5_03_120.png', 'ZY15-_1.5_04_120.png', 'ZY15-_1.5_05_120.png', 'ZY12+_1.5_00_20.png', 'ZY12+_1.5_01_20.png', 'ZY12+_1.5_02_20.png', 'ZY12+_1.5_03_20.png', 'ZY12+_1.5_04_20.png', 'ZY12+_1.5_05_20.png', 'ZY12-_1.5_00_20.png', 'ZY12-_1.5_01_20.png', 'ZY12-_1.5_02_20.png', 'ZY12-_1.5_03_20.png', 'ZY12-_1.5_04_20.png', 'ZY12-_1.5_05_20.png', 'ZY15+_1.5_00_20.png', 'ZY15+_1.5_01_20.png', 'ZY15+_1.5_02_20.png', 'ZY15+_1.5_03_20.png', 'ZY15+_1.5_04_20.png', 'ZY15+_1.5_05_20.png', 'ZY15-_1.5_00_20.png', 'ZY15-_1.5_01_20.png', 'ZY15-_1.5_02_20.png', 'ZY15-_1.5_03_20.png', 'ZY15-_1.5_04_20.png', 'ZY15-_1.5_05_20.png', 'ZY12+_1.5_00_30.png', 'ZY12+_1.5_01_30.png', 'ZY12+_1.5_02_30.png', 'ZY12+_1.5_03_30.png', 'ZY12+_1.5_04_30.png', 'ZY12+_1.5_05_30.png', 'ZY12-_1.5_00_30.png', 'ZY12-_1.5_01_30.png', 'ZY12-_1.5_02_30.png', 'ZY12-_1.5_03_30.png', 'ZY12-_1.5_04_30.png', 'ZY12-_1.5_05_30.png', 'ZY15+_1.5_00_30.png', 'ZY15+_1.5_01_30.png', 'ZY15+_1.5_02_30.png', 'ZY15+_1.5_03_30.png', 'ZY15+_1.5_04_30.png', 'ZY15+_1.5_05_30.png', 'ZY15-_1.5_00_30.png', 'ZY15-_1.5_01_30.png', 'ZY15-_1.5_02_30.png', 'ZY15-_1.5_03_30.png', 'ZY15-_1.5_04_30.png', 'ZY15-_1.5_05_30.png', 'ZY12+_1.5_00_40.png', 'ZY12+_1.5_01_40.png', 'ZY12+_1.5_02_40.png', 'ZY12+_1.5_03_40.png', 'ZY12+_1.5_04_40.png', 'ZY12+_1.5_05_40.png', 'ZY12-_1.5_00_40.png', 'ZY12-_1.5_01_40.png', 'ZY12-_1.5_02_40.png', 'ZY12-_1.5_03_40.png', 'ZY12-_1.5_04_40.png', 'ZY12-_1.5_05_40.png', 'ZY15+_1.5_00_40.png', 'ZY15+_1.5_01_40.png', 'ZY15+_1.5_02_40.png', 'ZY15+_1.5_03_40.png', 'ZY15+_1.5_04_40.png', 'ZY15+_1.5_05_40.png', 'ZY15-_1.5_00_40.png', 'ZY15-_1.5_01_40.png', 'ZY15-_1.5_02_40.png', 'ZY15-_1.5_03_40.png', 'ZY15-_1.5_04_40.png', 'ZY15-_1.5_05_40.png', 'ZY12+_1.5_00_50.png', 'ZY12+_1.5_01_50.png', 'ZY12+_1.5_02_50.png', 'ZY12+_1.5_03_50.png', 'ZY12+_1.5_04_50.png', 'ZY12+_1.5_05_50.png', 'ZY12-_1.5_00_50.png', 'ZY12-_1.5_01_50.png', 'ZY12-_1.5_02_50.png', 'ZY12-_1.5_03_50.png', 'ZY12-_1.5_04_50.png', 'ZY12-_1.5_05_50.png', 'ZY15+_1.5_00_50.png', 'ZY15+_1.5_01_50.png', 'ZY15+_1.5_02_50.png', 'ZY15+_1.5_03_50.png', 'ZY15+_1.5_04_50.png', 'ZY15+_1.5_05_50.png', 'ZY15-_1.5_00_50.png', 'ZY15-_1.5_01_50.png', 'ZY15-_1.5_02_50.png', 'ZY15-_1.5_03_50.png', 'ZY15-_1.5_04_50.png', 'ZY15-_1.5_05_50.png', 'ZY12+_1.5_00_60.png', 'ZY12+_1.5_01_60.png', 'ZY12+_1.5_02_60.png', 'ZY12+_1.5_03_60.png', 'ZY12+_1.5_04_60.png', 'ZY12+_1.5_05_60.png', 'ZY12-_1.5_00_60.png', 'ZY12-_1.5_01_60.png', 'ZY12-_1.5_02_60.png', 'ZY12-_1.5_03_60.png', 'ZY12-_1.5_04_60.png', 'ZY12-_1.5_05_60.png', 'ZY15+_1.5_00_60.png', 'ZY15+_1.5_01_60.png', 'ZY15+_1.5_02_60.png', 'ZY15+_1.5_03_60.png', 'ZY15+_1.5_04_60.png', 'ZY15+_1.5_05_60.png', 'ZY15-_1.5_00_60.png', 'ZY15-_1.5_01_60.png', 'ZY15-_1.5_02_60.png', 'ZY15-_1.5_03_60.png', 'ZY15-_1.5_04_60.png', 'ZY15-_1.5_05_60.png']\n"
     ]
    }
   ],
   "source": []
  }
 ],
 "metadata": {
  "kernelspec": {
   "display_name": "Python 3.10.4 ('pilus')",
   "language": "python",
   "name": "python3"
  },
  "language_info": {
   "codemirror_mode": {
    "name": "ipython",
    "version": 3
   },
   "file_extension": ".py",
   "mimetype": "text/x-python",
   "name": "python",
   "nbconvert_exporter": "python",
   "pygments_lexer": "ipython3",
   "version": "3.10.4"
  },
  "vscode": {
   "interpreter": {
    "hash": "aa38f2250d8a9330cbb487277bba25975dcb5f401aa75ff9ae60c3cd6c6705dd"
   }
  }
 },
 "nbformat": 4,
 "nbformat_minor": 5
}
