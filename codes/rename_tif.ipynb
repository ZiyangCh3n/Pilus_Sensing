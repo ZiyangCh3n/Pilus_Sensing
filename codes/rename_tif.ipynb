{
 "cells": [
  {
   "cell_type": "code",
   "execution_count": 1,
   "id": "d5e4eb71-2e69-46de-a054-780f0a9e765d",
   "metadata": {},
   "outputs": [],
   "source": [
    "import os"
   ]
  },
  {
   "cell_type": "code",
   "execution_count": 3,
   "id": "374d9f02-cbf8-4f0e-a7f9-07ad99dffef1",
   "metadata": {},
   "outputs": [
    {
     "data": {
      "text/plain": [
       "'/scratch/gpfs/ziyangc/pilus/Pilus_Sensing/data/070722'"
      ]
     },
     "execution_count": 3,
     "metadata": {},
     "output_type": "execute_result"
    }
   ],
   "source": [
    "data_dir = os.path.join(os.path.dirname(os.getcwd()), 'data', '070722')\n",
    "data_dir"
   ]
  },
  {
   "cell_type": "code",
   "execution_count": 19,
   "id": "9d2f35ff-d73f-4449-a356-33f7da398cc2",
   "metadata": {},
   "outputs": [
    {
     "name": "stdout",
     "output_type": "stream",
     "text": [
      "/scratch/gpfs/ziyangc/pilus/Pilus_Sensing/data/070722/02\n",
      "12++_+-_-+_--_XY01.tif 12++_1.5_0.tif\n",
      "12++_+-_-+_--_XY02.tif 12++_1.5_1.tif\n",
      "12++_+-_-+_--_XY03.tif 12++_1.5_2.tif\n",
      "12++_+-_-+_--_XY04.tif 12++_1.5_3.tif\n",
      "12++_+-_-+_--_XY05.tif 12++_1.5_4.tif\n",
      "12++_+-_-+_--_XY06.tif 12++_1.5_5.tif\n",
      "12++_+-_-+_--_XY07.tif 12++_1.5_6.tif\n",
      "12++_+-_-+_--_XY08.tif 12++_1.5_7.tif\n",
      "12++_+-_-+_--_XY09.tif 12+-_1.5_0.tif\n",
      "12++_+-_-+_--_XY10.tif 12+-_1.5_1.tif\n",
      "12++_+-_-+_--_XY11.tif 12+-_1.5_2.tif\n",
      "12++_+-_-+_--_XY12.tif 12+-_1.5_3.tif\n",
      "12++_+-_-+_--_XY13.tif 12+-_1.5_4.tif\n",
      "12++_+-_-+_--_XY14.tif 12+-_1.5_5.tif\n",
      "12++_+-_-+_--_XY15.tif 12+-_1.5_6.tif\n",
      "12++_+-_-+_--_XY16.tif 12+-_1.5_7.tif\n",
      "12++_+-_-+_--_XY17.tif 12-+_1.5_0.tif\n",
      "12++_+-_-+_--_XY18.tif 12-+_1.5_1.tif\n",
      "12++_+-_-+_--_XY19.tif 12-+_1.5_2.tif\n",
      "12++_+-_-+_--_XY20.tif 12-+_1.5_3.tif\n",
      "12++_+-_-+_--_XY21.tif 12-+_1.5_4.tif\n",
      "12++_+-_-+_--_XY22.tif 12-+_1.5_5.tif\n",
      "12++_+-_-+_--_XY23.tif 12-+_1.5_6.tif\n",
      "12++_+-_-+_--_XY24.tif 12-+_1.5_7.tif\n",
      "12++_+-_-+_--_XY25.tif 12--_1.5_0.tif\n",
      "12++_+-_-+_--_XY26.tif 12--_1.5_1.tif\n",
      "12++_+-_-+_--_XY27.tif 12--_1.5_2.tif\n",
      "12++_+-_-+_--_XY28.tif 12--_1.5_3.tif\n",
      "12++_+-_-+_--_XY29.tif 12--_1.5_4.tif\n",
      "12++_+-_-+_--_XY30.tif 12--_1.5_5.tif\n",
      "12++_+-_-+_--_XY31.tif 12--_1.5_6.tif\n",
      "12++_+-_-+_--_XY32.tif 12--_1.5_7.tif\n",
      "/scratch/gpfs/ziyangc/pilus/Pilus_Sensing/data/070722/01\n",
      "12++_1.5_0.tiff 12++_1.5_0.tif\n",
      "12++_1.5_1.tiff 12++_1.5_1.tif\n",
      "12++_1.5_2.tiff 12++_1.5_2.tif\n",
      "12++_1.5_3.tiff 12++_1.5_3.tif\n",
      "12++_1.5_4.tiff 12++_1.5_4.tif\n",
      "12++_1.5_5.tiff 12++_1.5_5.tif\n",
      "12++_1.5_6.tiff 12++_1.5_6.tif\n",
      "12++_1.5_7.tiff 12++_1.5_7.tif\n",
      "12+-_1.5_0.tiff 12+-_1.5_0.tif\n",
      "12+-_1.5_1.tiff 12+-_1.5_1.tif\n",
      "12+-_1.5_2.tiff 12+-_1.5_2.tif\n",
      "12+-_1.5_3.tiff 12+-_1.5_3.tif\n",
      "12+-_1.5_4.tiff 12+-_1.5_4.tif\n",
      "12+-_1.5_5.tiff 12+-_1.5_5.tif\n",
      "12+-_1.5_6.tiff 12+-_1.5_6.tif\n",
      "12+-_1.5_7.tiff 12+-_1.5_7.tif\n",
      "12-+_1.5_0.tiff 12-+_1.5_0.tif\n",
      "12-+_1.5_1.tiff 12-+_1.5_1.tif\n",
      "12-+_1.5_2.tiff 12-+_1.5_2.tif\n",
      "12-+_1.5_3.tiff 12-+_1.5_3.tif\n",
      "12-+_1.5_4.tiff 12-+_1.5_4.tif\n",
      "12-+_1.5_5.tiff 12-+_1.5_5.tif\n",
      "12-+_1.5_6.tiff 12-+_1.5_6.tif\n",
      "12-+_1.5_7.tiff 12-+_1.5_7.tif\n",
      "12--_1.5_0.tiff 12--_1.5_0.tif\n",
      "12--_1.5_1.tiff 12--_1.5_1.tif\n",
      "12--_1.5_2.tiff 12--_1.5_2.tif\n",
      "12--_1.5_3.tiff 12--_1.5_3.tif\n",
      "12--_1.5_4.tiff 12--_1.5_4.tif\n",
      "12--_1.5_5.tiff 12--_1.5_5.tif\n",
      "12--_1.5_6.tiff 12--_1.5_6.tif\n",
      "12--_1.5_7.tiff 12--_1.5_7.tif\n",
      "/scratch/gpfs/ziyangc/pilus/Pilus_Sensing/data/070722/04\n",
      "12++_+-_-+_--_XY01.tif 12++_1.5_0.tif\n",
      "12++_+-_-+_--_XY02.tif 12++_1.5_1.tif\n",
      "12++_+-_-+_--_XY03.tif 12++_1.5_2.tif\n",
      "12++_+-_-+_--_XY04.tif 12++_1.5_3.tif\n",
      "12++_+-_-+_--_XY05.tif 12++_1.5_4.tif\n",
      "12++_+-_-+_--_XY06.tif 12++_1.5_5.tif\n",
      "12++_+-_-+_--_XY07.tif 12++_1.5_6.tif\n",
      "12++_+-_-+_--_XY08.tif 12++_1.5_7.tif\n",
      "12++_+-_-+_--_XY09.tif 12+-_1.5_0.tif\n",
      "12++_+-_-+_--_XY10.tif 12+-_1.5_1.tif\n",
      "12++_+-_-+_--_XY11.tif 12+-_1.5_2.tif\n",
      "12++_+-_-+_--_XY12.tif 12+-_1.5_3.tif\n",
      "12++_+-_-+_--_XY13.tif 12+-_1.5_4.tif\n",
      "12++_+-_-+_--_XY14.tif 12+-_1.5_5.tif\n",
      "12++_+-_-+_--_XY15.tif 12+-_1.5_6.tif\n",
      "12++_+-_-+_--_XY16.tif 12+-_1.5_7.tif\n",
      "12++_+-_-+_--_XY17.tif 12-+_1.5_0.tif\n",
      "12++_+-_-+_--_XY18.tif 12-+_1.5_1.tif\n",
      "12++_+-_-+_--_XY19.tif 12-+_1.5_2.tif\n",
      "12++_+-_-+_--_XY20.tif 12-+_1.5_3.tif\n",
      "12++_+-_-+_--_XY21.tif 12-+_1.5_4.tif\n",
      "12++_+-_-+_--_XY22.tif 12-+_1.5_5.tif\n",
      "12++_+-_-+_--_XY23.tif 12-+_1.5_6.tif\n",
      "12++_+-_-+_--_XY24.tif 12-+_1.5_7.tif\n",
      "12++_+-_-+_--_XY25.tif 12--_1.5_0.tif\n",
      "12++_+-_-+_--_XY26.tif 12--_1.5_1.tif\n",
      "12++_+-_-+_--_XY27.tif 12--_1.5_2.tif\n",
      "12++_+-_-+_--_XY28.tif 12--_1.5_3.tif\n",
      "12++_+-_-+_--_XY29.tif 12--_1.5_4.tif\n",
      "12++_+-_-+_--_XY30.tif 12--_1.5_5.tif\n",
      "12++_+-_-+_--_XY31.tif 12--_1.5_6.tif\n",
      "12++_+-_-+_--_XY32.tif 12--_1.5_7.tif\n",
      "/scratch/gpfs/ziyangc/pilus/Pilus_Sensing/data/070722/03\n",
      "12++_+-_-+_--001_XY01.tif 12++_1.5_0.tif\n",
      "12++_+-_-+_--001_XY02.tif 12++_1.5_1.tif\n",
      "12++_+-_-+_--001_XY03.tif 12++_1.5_2.tif\n",
      "12++_+-_-+_--001_XY04.tif 12++_1.5_3.tif\n",
      "12++_+-_-+_--001_XY05.tif 12++_1.5_4.tif\n",
      "12++_+-_-+_--001_XY06.tif 12++_1.5_5.tif\n",
      "12++_+-_-+_--001_XY07.tif 12++_1.5_6.tif\n",
      "12++_+-_-+_--001_XY08.tif 12++_1.5_7.tif\n",
      "12++_+-_-+_--001_XY09.tif 12+-_1.5_0.tif\n",
      "12++_+-_-+_--001_XY10.tif 12+-_1.5_1.tif\n",
      "12++_+-_-+_--001_XY11.tif 12+-_1.5_2.tif\n",
      "12++_+-_-+_--001_XY12.tif 12+-_1.5_3.tif\n",
      "12++_+-_-+_--001_XY13.tif 12+-_1.5_4.tif\n",
      "12++_+-_-+_--001_XY14.tif 12+-_1.5_5.tif\n",
      "12++_+-_-+_--001_XY15.tif 12+-_1.5_6.tif\n",
      "12++_+-_-+_--001_XY16.tif 12+-_1.5_7.tif\n",
      "12++_+-_-+_--001_XY17.tif 12-+_1.5_0.tif\n",
      "12++_+-_-+_--001_XY18.tif 12-+_1.5_1.tif\n",
      "12++_+-_-+_--001_XY19.tif 12-+_1.5_2.tif\n",
      "12++_+-_-+_--001_XY20.tif 12-+_1.5_3.tif\n",
      "12++_+-_-+_--001_XY21.tif 12-+_1.5_4.tif\n",
      "12++_+-_-+_--001_XY22.tif 12-+_1.5_5.tif\n",
      "12++_+-_-+_--001_XY23.tif 12-+_1.5_6.tif\n",
      "12++_+-_-+_--001_XY24.tif 12-+_1.5_7.tif\n",
      "12++_+-_-+_--001_XY25.tif 12--_1.5_0.tif\n",
      "12++_+-_-+_--001_XY26.tif 12--_1.5_1.tif\n",
      "12++_+-_-+_--001_XY27.tif 12--_1.5_2.tif\n",
      "12++_+-_-+_--001_XY28.tif 12--_1.5_3.tif\n",
      "12++_+-_-+_--001_XY29.tif 12--_1.5_4.tif\n",
      "12++_+-_-+_--001_XY30.tif 12--_1.5_5.tif\n",
      "12++_+-_-+_--001_XY31.tif 12--_1.5_6.tif\n",
      "12++_+-_-+_--001_XY32.tif 12--_1.5_7.tif\n"
     ]
    }
   ],
   "source": [
    "for parent_m, folder_m, file_m in os.walk(data_dir):\n",
    "    if 'ref.txt' in file_m:\n",
    "        print(parent_m)\n",
    "        ref = {}\n",
    "        for line in open(os.path.join(parent_m, 'ref.txt')):\n",
    "            a = line.strip().split(',')\n",
    "            ref[a[0]] = a[1:]\n",
    "        # ref['tp'].sort()\n",
    "        for parent, folder, file in os.walk(parent_m):\n",
    "            if 'tiff' in parent and not 'checkpoints' in parent:\n",
    "                file.sort()\n",
    "                pointer = 0\n",
    "                # print(file)\n",
    "                # break\n",
    "                # print(parent)\n",
    "                for strain in ref['strain']:\n",
    "                    for conc in ref['conc']:\n",
    "                        for pos in ref['pos']:\n",
    "                            src = os.path.join(parent, file[pointer])\n",
    "                            dst = os.path.join(parent, '_'.join([strain, conc, pos]) + '.tif')\n",
    "                            print(file[pointer], '_'.join([strain, conc, pos]) + '.tif')\n",
    "                            os.rename(src, dst)\n",
    "                            pointer += 1"
   ]
  },
  {
   "cell_type": "code",
   "execution_count": 12,
   "id": "f9425ef2-9428-414c-8640-6e37bf79b26c",
   "metadata": {},
   "outputs": [
    {
     "name": "stdout",
     "output_type": "stream",
     "text": [
      "/scratch/gpfs/ziyangc/pilus/Pilus_Sensing/data/070722\n",
      "/scratch/gpfs/ziyangc/pilus/Pilus_Sensing/data/070722/02\n",
      "/scratch/gpfs/ziyangc/pilus/Pilus_Sensing/data/070722/02/tiff\n",
      "/scratch/gpfs/ziyangc/pilus/Pilus_Sensing/data/070722/02/.ipynb_checkpoints\n",
      "/scratch/gpfs/ziyangc/pilus/Pilus_Sensing/data/070722/.ipynb_checkpoints\n",
      "/scratch/gpfs/ziyangc/pilus/Pilus_Sensing/data/070722/01\n",
      "/scratch/gpfs/ziyangc/pilus/Pilus_Sensing/data/070722/01/mask_ref\n",
      "/scratch/gpfs/ziyangc/pilus/Pilus_Sensing/data/070722/01/tiff\n",
      "/scratch/gpfs/ziyangc/pilus/Pilus_Sensing/data/070722/01/mask\n",
      "/scratch/gpfs/ziyangc/pilus/Pilus_Sensing/data/070722/04\n",
      "/scratch/gpfs/ziyangc/pilus/Pilus_Sensing/data/070722/04/tiff\n",
      "/scratch/gpfs/ziyangc/pilus/Pilus_Sensing/data/070722/03\n",
      "/scratch/gpfs/ziyangc/pilus/Pilus_Sensing/data/070722/03/tiff\n",
      "/scratch/gpfs/ziyangc/pilus/Pilus_Sensing/data/070722/03/.ipynb_checkpoints\n"
     ]
    }
   ],
   "source": [
    "for parent_m, folder_m, file_m in os.walk(data_dir):\n",
    "    print(parent_m)"
   ]
  },
  {
   "cell_type": "code",
   "execution_count": 26,
   "id": "6d82061a-0e93-48af-931c-641990df8b91",
   "metadata": {},
   "outputs": [
    {
     "data": {
      "text/plain": [
       "{'strain': ['12++', '12+-', '12-+', '12--'],\n",
       " 'conc': ['1.5'],\n",
       " 'pos': ['0', '1', '2', '3', '4', '5', '6', '7'],\n",
       " 'tp': ['0',\n",
       "  '15',\n",
       "  '30',\n",
       "  '45',\n",
       "  '60',\n",
       "  '75',\n",
       "  '90',\n",
       "  '105',\n",
       "  '120',\n",
       "  '135',\n",
       "  '150',\n",
       "  '165',\n",
       "  '180']}"
      ]
     },
     "execution_count": 26,
     "metadata": {},
     "output_type": "execute_result"
    }
   ],
   "source": [
    "ref = {}\n",
    "for line in open(os.path.join(data_dir, 'ref.txt')):\n",
    "    a = line.strip().split(',')\n",
    "    ref[a[0]] = a[1:]\n",
    "ref"
   ]
  },
  {
   "cell_type": "code",
   "execution_count": 27,
   "id": "1a093ca5-d4c1-480e-88a2-fd8631218ef5",
   "metadata": {},
   "outputs": [
    {
     "data": {
      "text/plain": [
       "['.ipynb_checkpoints',\n",
       " '12++_+-_-+_--_XY01.tif',\n",
       " '12++_+-_-+_--_XY02.tif',\n",
       " '12++_+-_-+_--_XY03.tif',\n",
       " '12++_+-_-+_--_XY04.tif',\n",
       " '12++_+-_-+_--_XY05.tif',\n",
       " '12++_+-_-+_--_XY06.tif',\n",
       " '12++_+-_-+_--_XY07.tif',\n",
       " '12++_+-_-+_--_XY08.tif',\n",
       " '12++_+-_-+_--_XY09.tif',\n",
       " '12++_+-_-+_--_XY10.tif',\n",
       " '12++_+-_-+_--_XY11.tif',\n",
       " '12++_+-_-+_--_XY12.tif',\n",
       " '12++_+-_-+_--_XY13.tif',\n",
       " '12++_+-_-+_--_XY14.tif',\n",
       " '12++_+-_-+_--_XY15.tif',\n",
       " '12++_+-_-+_--_XY16.tif',\n",
       " '12++_+-_-+_--_XY17.tif',\n",
       " '12++_+-_-+_--_XY18.tif',\n",
       " '12++_+-_-+_--_XY19.tif',\n",
       " '12++_+-_-+_--_XY20.tif',\n",
       " '12++_+-_-+_--_XY21.tif',\n",
       " '12++_+-_-+_--_XY22.tif',\n",
       " '12++_+-_-+_--_XY23.tif',\n",
       " '12++_+-_-+_--_XY24.tif',\n",
       " '12++_+-_-+_--_XY25.tif',\n",
       " '12++_+-_-+_--_XY26.tif',\n",
       " '12++_+-_-+_--_XY27.tif',\n",
       " '12++_+-_-+_--_XY28.tif',\n",
       " '12++_+-_-+_--_XY29.tif',\n",
       " '12++_+-_-+_--_XY30.tif',\n",
       " '12++_+-_-+_--_XY31.tif',\n",
       " '12++_+-_-+_--_XY32.tif']"
      ]
     },
     "execution_count": 27,
     "metadata": {},
     "output_type": "execute_result"
    }
   ],
   "source": [
    "fl = os.listdir(os.path.join(data_dir, 'tiff'))\n",
    "fl.sort()\n",
    "fl"
   ]
  },
  {
   "cell_type": "code",
   "execution_count": 28,
   "id": "799a4b15-48e9-413a-aa0c-8908b12d5ac4",
   "metadata": {},
   "outputs": [],
   "source": [
    "pointer = 0\n",
    "for strain in ref['strain']:\n",
    "    for conc in ref['conc']:\n",
    "        for pos in ref['pos']:\n",
    "            src = os.path.join(data_dir, 'tiff', fl[pointer])\n",
    "            dst = os.path.join(data_dir, 'tiff', '_'.join([strain, conc, pos]) + '.tif')\n",
    "            os.rename(src, dst)\n",
    "            pointer += 1\n",
    "            "
   ]
  },
  {
   "cell_type": "code",
   "execution_count": 22,
   "id": "683b6e5e-d16a-451b-aef8-f359e83d8e43",
   "metadata": {},
   "outputs": [
    {
     "data": {
      "text/plain": [
       "'12--_1.5'"
      ]
     },
     "execution_count": 22,
     "metadata": {},
     "output_type": "execute_result"
    }
   ],
   "source": [
    "'_'.join([strain, conc])"
   ]
  }
 ],
 "metadata": {
  "kernelspec": {
   "display_name": "Python 3 (ipykernel)",
   "language": "python",
   "name": "python3"
  },
  "language_info": {
   "codemirror_mode": {
    "name": "ipython",
    "version": 3
   },
   "file_extension": ".py",
   "mimetype": "text/x-python",
   "name": "python",
   "nbconvert_exporter": "python",
   "pygments_lexer": "ipython3",
   "version": "3.10.2"
  }
 },
 "nbformat": 4,
 "nbformat_minor": 5
}
