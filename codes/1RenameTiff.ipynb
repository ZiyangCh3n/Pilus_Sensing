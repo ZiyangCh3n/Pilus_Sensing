{
 "cells": [
  {
   "cell_type": "code",
   "execution_count": 1,
   "id": "d5e4eb71-2e69-46de-a054-780f0a9e765d",
   "metadata": {},
   "outputs": [],
   "source": [
    "import os"
   ]
  },
  {
   "cell_type": "code",
   "execution_count": 2,
   "id": "a9b499ae-a01e-4411-8a65-04e062297de6",
   "metadata": {},
   "outputs": [],
   "source": [
    "os.chdir(os.path.dirname(os.getcwd()))"
   ]
  },
  {
   "cell_type": "code",
   "execution_count": 3,
   "id": "374d9f02-cbf8-4f0e-a7f9-07ad99dffef1",
   "metadata": {},
   "outputs": [
    {
     "data": {
      "text/plain": [
       "'/scratch/gpfs/ziyangc/pilus/Pilus_Sensing/data/221214/different_strain_arabinose'"
      ]
     },
     "execution_count": 3,
     "metadata": {},
     "output_type": "execute_result"
    }
   ],
   "source": [
    "# data_dir = os.path.join(os.path.dirname(os.getcwd()), 'data', '221201')\n",
    "# data_dir\n",
    "data_dir = os.path.join(os.getcwd())\n",
    "data_dir"
   ]
  },
  {
   "cell_type": "markdown",
   "id": "9d23b42d-95e8-4069-9fa4-70ee2979fa6a",
   "metadata": {},
   "source": [
    "### Read in reference file"
   ]
  },
  {
   "cell_type": "code",
   "execution_count": 4,
   "id": "629e2eed-c1b0-4ee5-ae82-111942c11293",
   "metadata": {},
   "outputs": [
    {
     "name": "stdout",
     "output_type": "stream",
     "text": [
      "True\n"
     ]
    }
   ],
   "source": [
    "ref_dir = os.path.join(os.getcwd(), 'ref.txt')\n",
    "print(os.path.exists(ref_dir))\n",
    "ref = {}"
   ]
  },
  {
   "cell_type": "code",
   "execution_count": 7,
   "id": "ef396a22-0e52-44be-9016-cc593306586d",
   "metadata": {},
   "outputs": [
    {
     "name": "stdout",
     "output_type": "stream",
     "text": [
      "{'strain': ['12++', '12+-', '12-+', '12--', '1++', '1+-', '1-+', '1--', '2++', '2+-', '2-+', '2--'], 'conc': ['1.5'], 'tp': ['0', '30', '60', '90', '120', '150', '180', '210', '240'], 'pos': ['0', '1', '2', '3', '4', '5'], 'od': ['.1', '.1', '.1', '.1'], 'ara_conc': ['1']}\n"
     ]
    }
   ],
   "source": [
    "for line in open(ref_dir):\n",
    "    a = line.strip()\n",
    "    if(a[0] == '#'):\n",
    "        continue\n",
    "    a = [i.strip() for i in a.split(',')]\n",
    "    ref[a[0]] = a[1:]\n",
    "    \n",
    "print(ref)"
   ]
  },
  {
   "cell_type": "markdown",
   "id": "64fe1b75-b992-450d-a879-342e2a756aeb",
   "metadata": {},
   "source": [
    "### Preview rename"
   ]
  },
  {
   "cell_type": "code",
   "execution_count": 8,
   "id": "db87350e-3e16-4563-95ed-84dcc6824720",
   "metadata": {},
   "outputs": [
    {
     "name": "stdout",
     "output_type": "stream",
     "text": [
      "test002_XY01.tif 12++_1.5_0.tif\n",
      "test002_XY02.tif 12++_1.5_1.tif\n",
      "test002_XY03.tif 12++_1.5_2.tif\n",
      "test002_XY04.tif 12++_1.5_3.tif\n",
      "test002_XY05.tif 12++_1.5_4.tif\n",
      "test002_XY06.tif 12++_1.5_5.tif\n",
      "test002_XY07.tif 12+-_1.5_0.tif\n",
      "test002_XY08.tif 12+-_1.5_1.tif\n",
      "test002_XY09.tif 12+-_1.5_2.tif\n",
      "test002_XY10.tif 12+-_1.5_3.tif\n",
      "test002_XY11.tif 12+-_1.5_4.tif\n",
      "test002_XY12.tif 12+-_1.5_5.tif\n",
      "test002_XY13.tif 12-+_1.5_0.tif\n",
      "test002_XY14.tif 12-+_1.5_1.tif\n",
      "test002_XY15.tif 12-+_1.5_2.tif\n",
      "test002_XY16.tif 12-+_1.5_3.tif\n",
      "test002_XY17.tif 12-+_1.5_4.tif\n",
      "test002_XY18.tif 12-+_1.5_5.tif\n",
      "test002_XY19.tif 12--_1.5_0.tif\n",
      "test002_XY20.tif 12--_1.5_1.tif\n",
      "test002_XY21.tif 12--_1.5_2.tif\n",
      "test002_XY22.tif 12--_1.5_3.tif\n",
      "test002_XY23.tif 12--_1.5_4.tif\n",
      "test002_XY24.tif 12--_1.5_5.tif\n",
      "test002_XY25.tif 1++_1.5_0.tif\n",
      "test002_XY26.tif 1++_1.5_1.tif\n",
      "test002_XY27.tif 1++_1.5_2.tif\n",
      "test002_XY28.tif 1++_1.5_3.tif\n",
      "test002_XY29.tif 1++_1.5_4.tif\n",
      "test002_XY30.tif 1++_1.5_5.tif\n",
      "test002_XY31.tif 1+-_1.5_0.tif\n",
      "test002_XY32.tif 1+-_1.5_1.tif\n",
      "test002_XY33.tif 1+-_1.5_2.tif\n",
      "test002_XY34.tif 1+-_1.5_3.tif\n",
      "test002_XY35.tif 1+-_1.5_4.tif\n",
      "test002_XY36.tif 1+-_1.5_5.tif\n",
      "test002_XY37.tif 1-+_1.5_0.tif\n",
      "test002_XY38.tif 1-+_1.5_1.tif\n",
      "test002_XY39.tif 1-+_1.5_2.tif\n",
      "test002_XY40.tif 1-+_1.5_3.tif\n",
      "test002_XY41.tif 1-+_1.5_4.tif\n",
      "test002_XY42.tif 1-+_1.5_5.tif\n",
      "test002_XY43.tif 1--_1.5_0.tif\n",
      "test002_XY44.tif 1--_1.5_1.tif\n",
      "test002_XY45.tif 1--_1.5_2.tif\n",
      "test002_XY46.tif 1--_1.5_3.tif\n",
      "test002_XY47.tif 1--_1.5_4.tif\n",
      "test002_XY48.tif 1--_1.5_5.tif\n",
      "test002_XY49.tif 2++_1.5_0.tif\n",
      "test002_XY50.tif 2++_1.5_1.tif\n",
      "test002_XY51.tif 2++_1.5_2.tif\n",
      "test002_XY52.tif 2++_1.5_3.tif\n",
      "test002_XY53.tif 2++_1.5_4.tif\n",
      "test002_XY54.tif 2++_1.5_5.tif\n",
      "test002_XY55.tif 2+-_1.5_0.tif\n",
      "test002_XY56.tif 2+-_1.5_1.tif\n",
      "test002_XY57.tif 2+-_1.5_2.tif\n",
      "test002_XY58.tif 2+-_1.5_3.tif\n",
      "test002_XY59.tif 2+-_1.5_4.tif\n",
      "test002_XY60.tif 2+-_1.5_5.tif\n",
      "test002_XY61.tif 2-+_1.5_0.tif\n",
      "test002_XY62.tif 2-+_1.5_1.tif\n",
      "test002_XY63.tif 2-+_1.5_2.tif\n",
      "test002_XY64.tif 2-+_1.5_3.tif\n",
      "test002_XY65.tif 2-+_1.5_4.tif\n",
      "test002_XY66.tif 2-+_1.5_5.tif\n",
      "test002_XY67.tif 2--_1.5_0.tif\n",
      "test002_XY68.tif 2--_1.5_1.tif\n",
      "test002_XY69.tif 2--_1.5_2.tif\n",
      "test002_XY70.tif 2--_1.5_3.tif\n",
      "test002_XY71.tif 2--_1.5_4.tif\n",
      "test002_XY72.tif 2--_1.5_5.tif\n"
     ]
    }
   ],
   "source": [
    "tif_dir = os.path.join(os.getcwd(), 'tiff')\n",
    "for parent, folder, file in os.walk(tif_dir):\n",
    "    file.sort()\n",
    "    pointer = 0\n",
    "    for strain in ref['strain']:\n",
    "        for conc in ref['conc']:\n",
    "            for pos in ref['pos']:\n",
    "                src = file[pointer]\n",
    "                dst = '_'.join([strain, conc, pos]) + '.tif'\n",
    "                print(src, dst)\n",
    "                with open(os.path.join(os.getcwd(), 'analysis', 'rename.txt'), 'a') as f:\n",
    "                    f.write(\"%s,%s\\n\" % (src, dst))\n",
    "                pointer += 1"
   ]
  },
  {
   "cell_type": "markdown",
   "id": "c2d2cd3a-4203-455c-a49f-a0339e4c7b49",
   "metadata": {},
   "source": [
    "### Rename"
   ]
  },
  {
   "cell_type": "code",
   "execution_count": 9,
   "id": "9d2f35ff-d73f-4449-a356-33f7da398cc2",
   "metadata": {},
   "outputs": [],
   "source": [
    "tif_dir = os.path.join(os.getcwd(), 'tiff')\n",
    "for parent, folder, file in os.walk(tif_dir):\n",
    "    file.sort()\n",
    "    pointer = 0\n",
    "    for strain in ref['strain']:\n",
    "        for conc in ref['conc']:\n",
    "            for pos in ref['pos']:\n",
    "                src = file[pointer]\n",
    "                dst = '_'.join([strain, conc, pos]) + '.tif'\n",
    "                os.rename(os.path.join(tif_dir, src), os.path.join(tif_dir, dst))\n",
    "                pointer += 1"
   ]
  }
 ],
 "metadata": {
  "kernelspec": {
   "display_name": "Python 3 (ipykernel)",
   "language": "python",
   "name": "python3"
  },
  "language_info": {
   "codemirror_mode": {
    "name": "ipython",
    "version": 3
   },
   "file_extension": ".py",
   "mimetype": "text/x-python",
   "name": "python",
   "nbconvert_exporter": "python",
   "pygments_lexer": "ipython3",
   "version": "3.10.2"
  }
 },
 "nbformat": 4,
 "nbformat_minor": 5
}
