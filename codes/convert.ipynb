{
 "cells": [
  {
   "cell_type": "code",
   "execution_count": 5,
   "metadata": {},
   "outputs": [],
   "source": [
    "from os import path, getcwd, listdir, walk\n",
    "import numpy as np\n",
    "from subprocess import run, Popen\n",
    "import sys\n"
   ]
  },
  {
   "cell_type": "code",
   "execution_count": 6,
   "metadata": {},
   "outputs": [],
   "source": [
    "ARGS = ['', '061422']\n",
    "DATA_DIR = path.join(path.dirname(getcwd()), 'data', ARGS[1])\n",
    "\n",
    "BFTOOL_DIR = path.join(path.dirname(getcwd()), 'bftools')#os.path.join(os.path.dirname(os.getcwd()), 'data', 'test')"
   ]
  },
  {
   "cell_type": "code",
   "execution_count": 7,
   "metadata": {},
   "outputs": [
    {
     "data": {
      "text/plain": [
       "['1st', '2nd']"
      ]
     },
     "execution_count": 7,
     "metadata": {},
     "output_type": "execute_result"
    }
   ],
   "source": [
    "listdir(DATA_DIR)"
   ]
  },
  {
   "cell_type": "code",
   "execution_count": 8,
   "metadata": {},
   "outputs": [],
   "source": [
    "for parent, folders, files in walk(DATA_DIR):\n",
    "    # print(parent)\n",
    "    nd2 = [f for f in files if f.endswith('.nd2')]\n",
    "    if len(nd2):\n",
    "        for f in files:\n",
    "            input_dir = path.join(parent, f)\n",
    "            output_dir = path.join(parent, f.replace('.nd2', '.tiff'))\n",
    "            if path.exists(output_dir):\n",
    "                continue\n",
    "            # run([path.join(BFTOOL_DIR, 'bfconvert'), input_dir, output_dir], shell = sys.platform == 'win32')\n",
    "            Popen([path.join(BFTOOL_DIR, 'bfconvert'), input_dir, output_dir], shell = sys.platform == 'win32') # This is faster"
   ]
  },
  {
   "cell_type": "code",
   "execution_count": 16,
   "metadata": {},
   "outputs": [
    {
     "data": {
      "text/plain": [
       "0"
      ]
     },
     "execution_count": 16,
     "metadata": {},
     "output_type": "execute_result"
    }
   ],
   "source": [
    "len(a['a'])"
   ]
  }
 ],
 "metadata": {
  "kernelspec": {
   "display_name": "Python 3.10.4 ('pilus')",
   "language": "python",
   "name": "python3"
  },
  "language_info": {
   "codemirror_mode": {
    "name": "ipython",
    "version": 3
   },
   "file_extension": ".py",
   "mimetype": "text/x-python",
   "name": "python",
   "nbconvert_exporter": "python",
   "pygments_lexer": "ipython3",
   "version": "3.10.4"
  },
  "orig_nbformat": 4,
  "vscode": {
   "interpreter": {
    "hash": "aa38f2250d8a9330cbb487277bba25975dcb5f401aa75ff9ae60c3cd6c6705dd"
   }
  }
 },
 "nbformat": 4,
 "nbformat_minor": 2
}
