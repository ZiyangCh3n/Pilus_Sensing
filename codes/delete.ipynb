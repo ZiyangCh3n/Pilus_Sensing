{
 "cells": [
  {
   "cell_type": "code",
   "execution_count": 1,
   "id": "2becdc75-e985-4038-993e-a96472d4d063",
   "metadata": {},
   "outputs": [],
   "source": [
    "import os "
   ]
  },
  {
   "cell_type": "code",
   "execution_count": 2,
   "id": "da0a532d-0924-4e50-94e8-22e98c885e3c",
   "metadata": {},
   "outputs": [
    {
     "data": {
      "text/plain": [
       "'/scratch/gpfs/ziyangc/pilus/Pilus_Sensing/codes'"
      ]
     },
     "execution_count": 2,
     "metadata": {},
     "output_type": "execute_result"
    }
   ],
   "source": [
    "os.getcwd()"
   ]
  },
  {
   "cell_type": "code",
   "execution_count": 3,
   "id": "cc20b76c-a52b-401d-8cb2-47c37471bebd",
   "metadata": {},
   "outputs": [
    {
     "name": "stdout",
     "output_type": "stream",
     "text": [
      "/scratch/gpfs/ziyangc/pilus/Pilus_Sensing/data/062222/2nd/mask_ref/ZY15-_1.5_1_07.png\n",
      "\n"
     ]
    }
   ],
   "source": [
    "for line in open(os.path.join(os.getcwd(), 'delete.txt')):\n",
    "    print(line)\n",
    "    os.remove(line.strip())"
   ]
  }
 ],
 "metadata": {
  "kernelspec": {
   "display_name": "Python 3 (ipykernel)",
   "language": "python",
   "name": "python3"
  },
  "language_info": {
   "codemirror_mode": {
    "name": "ipython",
    "version": 3
   },
   "file_extension": ".py",
   "mimetype": "text/x-python",
   "name": "python",
   "nbconvert_exporter": "python",
   "pygments_lexer": "ipython3",
   "version": "3.10.2"
  }
 },
 "nbformat": 4,
 "nbformat_minor": 5
}
