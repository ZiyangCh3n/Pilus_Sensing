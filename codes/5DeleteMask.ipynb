{
 "cells": [
  {
   "cell_type": "code",
   "execution_count": 26,
   "metadata": {},
   "outputs": [],
   "source": [
    "import os\n",
    "import pandas as pd\n",
    "import shutil"
   ]
  },
  {
   "cell_type": "code",
   "execution_count": 2,
   "metadata": {},
   "outputs": [
    {
     "data": {
      "text/plain": [
       "'c:\\\\Users\\\\littl\\\\Documents\\\\Research\\\\pilus\\\\Pilus_Sensing\\\\Pilus_Sensing\\\\data\\\\test2\\\\analysis'"
      ]
     },
     "execution_count": 2,
     "metadata": {},
     "output_type": "execute_result"
    }
   ],
   "source": [
    "os.getcwd()"
   ]
  },
  {
   "cell_type": "code",
   "execution_count": 4,
   "metadata": {},
   "outputs": [
    {
     "data": {
      "text/plain": [
       "True"
      ]
     },
     "execution_count": 4,
     "metadata": {},
     "output_type": "execute_result"
    }
   ],
   "source": [
    "mask_dir = os.path.join(os.path.dirname(os.getcwd()), 'masks', 'masks_all')\n",
    "os.path.exists(mask_dir)"
   ]
  },
  {
   "cell_type": "code",
   "execution_count": 27,
   "metadata": {},
   "outputs": [],
   "source": [
    "out_dir = os.path.join(os.path.dirname(os.getcwd()), 'masks', 'mask_out')\n",
    "if not os.path.exists(out_dir):\n",
    "    os.mkdir(out_dir)"
   ]
  },
  {
   "cell_type": "code",
   "execution_count": 23,
   "metadata": {},
   "outputs": [],
   "source": [
    "# d = {'1': 'LocalThresh', '2': 'GlobalOtsu', \n",
    "# '3': 'LocalOtsu', '4': 'MorpheACWE', '5': 'Isodata', \n",
    "# '6': 'Li', '7': 'Mean', '8': 'Triangle', '9': 'Yen'}\n",
    "d = ['LocalThresh', 'GlobalOtsu', 'LocalOtsu', 'MorpheACWE', 'Isodata', 'Li', 'Mean', 'Triangle', 'Yen']"
   ]
  },
  {
   "cell_type": "code",
   "execution_count": 10,
   "metadata": {},
   "outputs": [],
   "source": [
    "label_dir = os.path.join(os.getcwd(), 'label.txt')"
   ]
  },
  {
   "cell_type": "code",
   "execution_count": 15,
   "metadata": {},
   "outputs": [],
   "source": [
    "label = pd.read_csv(label_dir, header=None)"
   ]
  },
  {
   "cell_type": "code",
   "execution_count": 32,
   "metadata": {},
   "outputs": [
    {
     "data": {
      "text/html": [
       "<div>\n",
       "<style scoped>\n",
       "    .dataframe tbody tr th:only-of-type {\n",
       "        vertical-align: middle;\n",
       "    }\n",
       "\n",
       "    .dataframe tbody tr th {\n",
       "        vertical-align: top;\n",
       "    }\n",
       "\n",
       "    .dataframe thead th {\n",
       "        text-align: right;\n",
       "    }\n",
       "</style>\n",
       "<table border=\"1\" class=\"dataframe\">\n",
       "  <thead>\n",
       "    <tr style=\"text-align: right;\">\n",
       "      <th></th>\n",
       "      <th>0</th>\n",
       "      <th>1</th>\n",
       "    </tr>\n",
       "  </thead>\n",
       "  <tbody>\n",
       "    <tr>\n",
       "      <th>0</th>\n",
       "      <td>12_0.5_0_00.png</td>\n",
       "      <td>2</td>\n",
       "    </tr>\n",
       "    <tr>\n",
       "      <th>1</th>\n",
       "      <td>12_0.5_0_01.png</td>\n",
       "      <td>2</td>\n",
       "    </tr>\n",
       "    <tr>\n",
       "      <th>2</th>\n",
       "      <td>12_0.5_0_02.png</td>\n",
       "      <td>2</td>\n",
       "    </tr>\n",
       "    <tr>\n",
       "      <th>3</th>\n",
       "      <td>12_0.5_0_03.png</td>\n",
       "      <td>2</td>\n",
       "    </tr>\n",
       "    <tr>\n",
       "      <th>4</th>\n",
       "      <td>12_0.5_0_04.png</td>\n",
       "      <td>2</td>\n",
       "    </tr>\n",
       "    <tr>\n",
       "      <th>...</th>\n",
       "      <td>...</td>\n",
       "      <td>...</td>\n",
       "    </tr>\n",
       "    <tr>\n",
       "      <th>454</th>\n",
       "      <td>2_2_0_06.png</td>\n",
       "      <td>6</td>\n",
       "    </tr>\n",
       "    <tr>\n",
       "      <th>455</th>\n",
       "      <td>2_2_1_00.png</td>\n",
       "      <td>2</td>\n",
       "    </tr>\n",
       "    <tr>\n",
       "      <th>456</th>\n",
       "      <td>2_2_1_01.png</td>\n",
       "      <td>2</td>\n",
       "    </tr>\n",
       "    <tr>\n",
       "      <th>457</th>\n",
       "      <td>2_2_1_02.png</td>\n",
       "      <td>2</td>\n",
       "    </tr>\n",
       "    <tr>\n",
       "      <th>458</th>\n",
       "      <td>2_2_1_03.png</td>\n",
       "      <td>2</td>\n",
       "    </tr>\n",
       "  </tbody>\n",
       "</table>\n",
       "<p>459 rows × 2 columns</p>\n",
       "</div>"
      ],
      "text/plain": [
       "                   0  1\n",
       "0    12_0.5_0_00.png  2\n",
       "1    12_0.5_0_01.png  2\n",
       "2    12_0.5_0_02.png  2\n",
       "3    12_0.5_0_03.png  2\n",
       "4    12_0.5_0_04.png  2\n",
       "..               ... ..\n",
       "454     2_2_0_06.png  6\n",
       "455     2_2_1_00.png  2\n",
       "456     2_2_1_01.png  2\n",
       "457     2_2_1_02.png  2\n",
       "458     2_2_1_03.png  2\n",
       "\n",
       "[459 rows x 2 columns]"
      ]
     },
     "execution_count": 32,
     "metadata": {},
     "output_type": "execute_result"
    }
   ],
   "source": [
    "label"
   ]
  },
  {
   "cell_type": "code",
   "execution_count": 30,
   "metadata": {},
   "outputs": [],
   "source": [
    "for i in range(label.shape[0]):\n",
    "    img = label.iloc[i, 0]\n",
    "    lb = label.iloc[i, 1]\n",
    "    # print(img, lb)\n",
    "    if lb == 0:\n",
    "        continue\n",
    "    filename = '_'.join((d[lb-1], img))\n",
    "    file_dir = os.path.join(mask_dir, filename)\n",
    "    o_dir = os.path.join(out_dir, filename)\n",
    "    shutil.copyfile(file_dir, o_dir)\n",
    "    # print(filename)\n",
    "    # break"
   ]
  }
 ],
 "metadata": {
  "kernelspec": {
   "display_name": "pilus",
   "language": "python",
   "name": "python3"
  },
  "language_info": {
   "codemirror_mode": {
    "name": "ipython",
    "version": 3
   },
   "file_extension": ".py",
   "mimetype": "text/x-python",
   "name": "python",
   "nbconvert_exporter": "python",
   "pygments_lexer": "ipython3",
   "version": "3.9.7"
  },
  "orig_nbformat": 4,
  "vscode": {
   "interpreter": {
    "hash": "40a4976031dacd6603eebb0bd901e30bd889fa5c60bf3e9b4494ad3e6ce7f0db"
   }
  }
 },
 "nbformat": 4,
 "nbformat_minor": 2
}
