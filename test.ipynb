{
 "cells": [
  {
   "cell_type": "code",
   "execution_count": null,
   "metadata": {},
   "outputs": [],
   "source": [
    "import matplotlib.pyplot as plt\n",
    "from skimage import io, filters, util, restoration, morphology, exposure\n",
    "import os\n",
    "import numpy as np"
   ]
  },
  {
   "cell_type": "code",
   "execution_count": null,
   "metadata": {},
   "outputs": [],
   "source": [
    "DATA_DIR = r'D:\\Researchdata\\ZY1'"
   ]
  },
  {
   "cell_type": "code",
   "execution_count": null,
   "metadata": {},
   "outputs": [],
   "source": [
    "for parent, dir, file in os.walk(DATA_DIR):\n",
    "    if( 'tiff' in parent):\n",
    "        for f in file:\n",
    "            raw_stack = io.imread(os.path.join(parent, f))\n",
    "            break"
   ]
  },
  {
   "cell_type": "code",
   "execution_count": null,
   "metadata": {},
   "outputs": [],
   "source": [
    "img_raw = raw_stack[2, ..., 2]\n",
    "img_sharp = filters.unsharp_mask(img_raw, radius = 10, amount = 2, preserve_range = False)\n",
    "img_sharp = util.img_as_uint(img_sharp)\n",
    "plt.imshow(img_sharp, cmap = 'gray')"
   ]
  },
  {
   "cell_type": "code",
   "execution_count": null,
   "metadata": {},
   "outputs": [],
   "source": [
    "background = restoration.rolling_ball(img_sharp, radius = 50)\n",
    "plt.imshow(background, cmap = 'gray')"
   ]
  },
  {
   "cell_type": "code",
   "execution_count": null,
   "metadata": {},
   "outputs": [],
   "source": [
    "background_normal = filters.rank.mean(background, selem = morphology.disk(30))\n",
    "plt.imshow(background_normal, cmap = 'gray')"
   ]
  },
  {
   "cell_type": "code",
   "execution_count": null,
   "metadata": {},
   "outputs": [],
   "source": [
    "img_bg_reduced = img_sharp - background_normal\n",
    "img_bg_reduced[img_sharp < background_normal] = 0\n",
    "# img_bg_reduced[img_bg_reduced <0 ] = 0\n",
    "img_bg_reduced = exposure.rescale_intensity(img_bg_reduced, out_range = (np.min(img_sharp), np.max(img_sharp)))\n",
    "# img_bg_reduced = (img_bg_reduced.astype(np.int16))\n",
    "plt.imshow(img_bg_reduced, cmap = 'gray')\n",
    "# plt.hist(img_bg_reduced.ravel(), bins=255)"
   ]
  },
  {
   "cell_type": "code",
   "execution_count": null,
   "metadata": {},
   "outputs": [],
   "source": [
    "plt.hist(img_bg_reduced.ravel(), bins = 255)"
   ]
  },
  {
   "cell_type": "code",
   "execution_count": null,
   "metadata": {},
   "outputs": [],
   "source": [
    "thresholds = filters.threshold_multiotsu(img_sharp, classes = 4)"
   ]
  },
  {
   "cell_type": "code",
   "execution_count": null,
   "metadata": {},
   "outputs": [],
   "source": [
    "\n",
    "# Using the threshold values, we generate the three regions.\n",
    "regions = np.digitize(img_bg_reduced, bins=thresholds)\n",
    "\n",
    "fig, ax = plt.subplots(nrows=1, ncols=3, figsize=(10, 3.5))\n",
    "\n",
    "# Plotting the original image.\n",
    "ax[0].imshow(img_bg_reduced, cmap='gray')\n",
    "ax[0].set_title('Original')\n",
    "ax[0].axis('off')\n",
    "\n",
    "# Plotting the histogram and the two thresholds obtained from\n",
    "# multi-Otsu.\n",
    "ax[1].hist(img_bg_reduced.ravel(), bins=255)\n",
    "ax[1].set_title('Histogram')\n",
    "for thresh in thresholds:\n",
    "    ax[1].axvline(thresh, color='r')\n",
    "\n",
    "# Plotting the Multi Otsu result.\n",
    "ax[2].imshow(regions, cmap='jet')\n",
    "ax[2].set_title('Multi-Otsu result')\n",
    "ax[2].axis('off')\n",
    "\n",
    "plt.subplots_adjust()\n",
    "\n",
    "plt.show()\n",
    "print(thresholds)\n",
    "thresh = [thr for thr in thresholds if thr > 10][0]"
   ]
  },
  {
   "cell_type": "code",
   "execution_count": null,
   "metadata": {},
   "outputs": [],
   "source": [
    "import matplotlib\n",
    "import matplotlib.pyplot as plt\n",
    "import numpy as np\n",
    "\n",
    "from skimage import data\n",
    "from skimage.filters import threshold_multiotsu\n",
    "\n",
    "# Setting the font size for all plots.\n",
    "matplotlib.rcParams['font.size'] = 9\n",
    "\n",
    "# The input image.\n",
    "image = data.camera()\n",
    "\n",
    "# Applying multi-Otsu threshold for the default value, generating\n",
    "# three classes.\n",
    "thresholds = threshold_multiotsu(image)"
   ]
  },
  {
   "cell_type": "code",
   "execution_count": null,
   "metadata": {},
   "outputs": [],
   "source": [
    "temp = util.img_as_uint(img_bg_reduced)"
   ]
  }
 ],
 "metadata": {
  "interpreter": {
   "hash": "ac983cd45b0ee6c11d85b98a8cb3780817c0b367f47d311cb8baad1dfb908cbd"
  },
  "kernelspec": {
   "display_name": "Python 3.9.7 ('pilus')",
   "language": "python",
   "name": "python3"
  },
  "language_info": {
   "codemirror_mode": {
    "name": "ipython",
    "version": 3
   },
   "file_extension": ".py",
   "mimetype": "text/x-python",
   "name": "python",
   "nbconvert_exporter": "python",
   "pygments_lexer": "ipython3",
   "version": "3.9.7"
  },
  "orig_nbformat": 4
 },
 "nbformat": 4,
 "nbformat_minor": 2
}
